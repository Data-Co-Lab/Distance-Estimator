{
 "cells": [
  {
   "cell_type": "code",
   "execution_count": 1,
   "metadata": {
    "colab": {},
    "colab_type": "code",
    "id": "1hGDvYL16fgg"
   },
   "outputs": [],
   "source": [
    "import pandas as pd\n",
    "import math\n",
    "from sklearn.model_selection import train_test_split\n",
    "import sklearn.metrics as metrics\n",
    "from sklearn.linear_model import LinearRegression\n",
    "import matplotlib.pyplot as plt\n",
    "from sklearn import preprocessing, svm\n",
    "import numpy as np\n",
    "import pickle"
   ]
  },
  {
   "cell_type": "code",
   "execution_count": 2,
   "metadata": {
    "colab": {
     "base_uri": "https://localhost:8080/",
     "height": 419
    },
    "colab_type": "code",
    "executionInfo": {
     "elapsed": 904,
     "status": "ok",
     "timestamp": 1585774881002,
     "user": {
      "displayName": "Mohamed Chebbi",
      "photoUrl": "",
      "userId": "10696409959616681794"
     },
     "user_tz": -60
    },
    "id": "VVWjIoFDW8LC",
    "outputId": "60538435-7a21-4596-a14b-54d9ea393e67"
   },
   "outputs": [
    {
     "data": {
      "text/html": [
       "<div>\n",
       "<style scoped>\n",
       "    .dataframe tbody tr th:only-of-type {\n",
       "        vertical-align: middle;\n",
       "    }\n",
       "\n",
       "    .dataframe tbody tr th {\n",
       "        vertical-align: top;\n",
       "    }\n",
       "\n",
       "    .dataframe thead th {\n",
       "        text-align: right;\n",
       "    }\n",
       "</style>\n",
       "<table border=\"1\" class=\"dataframe\">\n",
       "  <thead>\n",
       "    <tr style=\"text-align: right;\">\n",
       "      <th></th>\n",
       "      <th>x_ratio</th>\n",
       "      <th>y_ratio</th>\n",
       "      <th>target</th>\n",
       "    </tr>\n",
       "  </thead>\n",
       "  <tbody>\n",
       "    <tr>\n",
       "      <th>0</th>\n",
       "      <td>0.132812</td>\n",
       "      <td>0.177083</td>\n",
       "      <td>153</td>\n",
       "    </tr>\n",
       "    <tr>\n",
       "      <th>1</th>\n",
       "      <td>0.139063</td>\n",
       "      <td>0.185417</td>\n",
       "      <td>157</td>\n",
       "    </tr>\n",
       "    <tr>\n",
       "      <th>2</th>\n",
       "      <td>0.134375</td>\n",
       "      <td>0.179167</td>\n",
       "      <td>153</td>\n",
       "    </tr>\n",
       "    <tr>\n",
       "      <th>3</th>\n",
       "      <td>0.134375</td>\n",
       "      <td>0.179167</td>\n",
       "      <td>156</td>\n",
       "    </tr>\n",
       "    <tr>\n",
       "      <th>4</th>\n",
       "      <td>0.126562</td>\n",
       "      <td>0.168750</td>\n",
       "      <td>155</td>\n",
       "    </tr>\n",
       "    <tr>\n",
       "      <th>5</th>\n",
       "      <td>0.123438</td>\n",
       "      <td>0.164583</td>\n",
       "      <td>159</td>\n",
       "    </tr>\n",
       "    <tr>\n",
       "      <th>6</th>\n",
       "      <td>0.112500</td>\n",
       "      <td>0.150000</td>\n",
       "      <td>170</td>\n",
       "    </tr>\n",
       "    <tr>\n",
       "      <th>7</th>\n",
       "      <td>0.114062</td>\n",
       "      <td>0.152083</td>\n",
       "      <td>174</td>\n",
       "    </tr>\n",
       "    <tr>\n",
       "      <th>8</th>\n",
       "      <td>0.109375</td>\n",
       "      <td>0.145833</td>\n",
       "      <td>174</td>\n",
       "    </tr>\n",
       "    <tr>\n",
       "      <th>9</th>\n",
       "      <td>0.110937</td>\n",
       "      <td>0.147917</td>\n",
       "      <td>170</td>\n",
       "    </tr>\n",
       "  </tbody>\n",
       "</table>\n",
       "</div>"
      ],
      "text/plain": [
       "    x_ratio   y_ratio  target\n",
       "0  0.132812  0.177083     153\n",
       "1  0.139063  0.185417     157\n",
       "2  0.134375  0.179167     153\n",
       "3  0.134375  0.179167     156\n",
       "4  0.126562  0.168750     155\n",
       "5  0.123438  0.164583     159\n",
       "6  0.112500  0.150000     170\n",
       "7  0.114062  0.152083     174\n",
       "8  0.109375  0.145833     174\n",
       "9  0.110937  0.147917     170"
      ]
     },
     "execution_count": 2,
     "metadata": {},
     "output_type": "execute_result"
    }
   ],
   "source": [
    "data_set_path=\"data_set.csv\"\n",
    "df = pd.read_csv(data_set_path)\n",
    "df = df[df.target != 0]\n",
    "df = df[df.target <220]\n",
    "df['x_ratio']= df['w_values']/df['x_resol']\n",
    "df['y_ratio']= df['h_values']/df['y_resol']\n",
    "df = df[['x_ratio','y_ratio','target']]\n",
    "df.head(10)"
   ]
  },
  {
   "cell_type": "code",
   "execution_count": 3,
   "metadata": {
    "colab": {
     "base_uri": "https://localhost:8080/",
     "height": 34
    },
    "colab_type": "code",
    "executionInfo": {
     "elapsed": 819,
     "status": "ok",
     "timestamp": 1585774888638,
     "user": {
      "displayName": "Mohamed Chebbi",
      "photoUrl": "",
      "userId": "10696409959616681794"
     },
     "user_tz": -60
    },
    "id": "xKa9kdnnQqPU",
    "outputId": "b32ff62d-3d04-4b67-e8d9-60f3b9b5260b"
   },
   "outputs": [
    {
     "name": "stdout",
     "output_type": "stream",
     "text": [
      "(2342, 3)\n"
     ]
    }
   ],
   "source": [
    "print(df.shape)"
   ]
  },
  {
   "cell_type": "code",
   "execution_count": 4,
   "metadata": {
    "colab": {},
    "colab_type": "code",
    "id": "VJZlrOqNW-Ip"
   },
   "outputs": [],
   "source": [
    "x=df.drop(['target'],1)\n",
    "y=df['target']"
   ]
  },
  {
   "cell_type": "code",
   "execution_count": 5,
   "metadata": {
    "colab": {},
    "colab_type": "code",
    "id": "Cfzx3qOqXCfS"
   },
   "outputs": [],
   "source": [
    "prediction_size=200\n",
    "x_prediction=x[-prediction_size:]\n",
    "y_prediction=y[-prediction_size:]\n",
    "x=x[:-prediction_size+1]\n",
    "y=y[:-prediction_size+1]"
   ]
  },
  {
   "cell_type": "code",
   "execution_count": 6,
   "metadata": {
    "colab": {
     "base_uri": "https://localhost:8080/",
     "height": 34
    },
    "colab_type": "code",
    "executionInfo": {
     "elapsed": 1148,
     "status": "ok",
     "timestamp": 1585774913043,
     "user": {
      "displayName": "Mohamed Chebbi",
      "photoUrl": "",
      "userId": "10696409959616681794"
     },
     "user_tz": -60
    },
    "id": "tptmdJvOXKjW",
    "outputId": "f07ae761-8d4c-4483-de45-faa25659ae2e"
   },
   "outputs": [
    {
     "name": "stdout",
     "output_type": "stream",
     "text": [
      "0.9223195700489273\n"
     ]
    }
   ],
   "source": [
    "x_train,x_test,y_train,y_test= train_test_split(x,y,test_size=0.2,shuffle= True)\n",
    "#model=LinearRegression()\n",
    "model=svm.SVR()\n",
    "model.fit(x_train,y_train)\n",
    "\n",
    "accuracy=model.score(x_test,y_test)\n",
    "print(accuracy)"
   ]
  },
  {
   "cell_type": "code",
   "execution_count": null,
   "metadata": {},
   "outputs": [],
   "source": [
    "with open(data_set_path+'/Final_estimator.pickle','wb') as f:\n",
    "  pickle.dump(model,f)"
   ]
  },
  {
   "cell_type": "code",
   "execution_count": 7,
   "metadata": {
    "colab": {
     "base_uri": "https://localhost:8080/",
     "height": 34
    },
    "colab_type": "code",
    "executionInfo": {
     "elapsed": 1359,
     "status": "ok",
     "timestamp": 1585774969306,
     "user": {
      "displayName": "Mohamed Chebbi",
      "photoUrl": "",
      "userId": "10696409959616681794"
     },
     "user_tz": -60
    },
    "id": "viSjRSudXNPf",
    "outputId": "d68fd023-a3fa-4b99-de7f-bcc194f68fe7"
   },
   "outputs": [
    {
     "name": "stdout",
     "output_type": "stream",
     "text": [
      "235.62807547930754\n"
     ]
    }
   ],
   "source": [
    "prediction_linear = model.predict(x_test)\n",
    "scores_regr = metrics.mean_squared_error(y_test, prediction_linear)\n",
    "print(scores_regr)"
   ]
  },
  {
   "cell_type": "code",
   "execution_count": 8,
   "metadata": {
    "colab": {
     "base_uri": "https://localhost:8080/",
     "height": 34
    },
    "colab_type": "code",
    "executionInfo": {
     "elapsed": 752,
     "status": "ok",
     "timestamp": 1585774976488,
     "user": {
      "displayName": "Mohamed Chebbi",
      "photoUrl": "",
      "userId": "10696409959616681794"
     },
     "user_tz": -60
    },
    "id": "_l9MTGrMXOsL",
    "outputId": "d1cec3bf-9519-4732-d528-14aeace8e314"
   },
   "outputs": [
    {
     "name": "stdout",
     "output_type": "stream",
     "text": [
      "140.30807000761877\n"
     ]
    }
   ],
   "source": [
    "prediction_linear_val = model.predict(x_prediction)\n",
    "scores_regr = metrics.mean_squared_error(y_prediction, prediction_linear_val)\n",
    "print(scores_regr)"
   ]
  },
  {
   "cell_type": "code",
   "execution_count": 9,
   "metadata": {
    "colab": {
     "base_uri": "https://localhost:8080/",
     "height": 483
    },
    "colab_type": "code",
    "executionInfo": {
     "elapsed": 1158,
     "status": "ok",
     "timestamp": 1585774979063,
     "user": {
      "displayName": "Mohamed Chebbi",
      "photoUrl": "",
      "userId": "10696409959616681794"
     },
     "user_tz": -60
    },
    "id": "Y-58OVjeXRaR",
    "outputId": "7ff3c5b2-1df9-4b18-d18d-418fc91e99af"
   },
   "outputs": [
    {
     "data": {
      "image/png": "[encoded data removed]",
      "text/plain": [
       "<Figure size 1152x576 with 1 Axes>"
      ]
     },
     "metadata": {
      "needs_background": "light"
     },
     "output_type": "display_data"
    }
   ],
   "source": [
    "true_value = y_prediction.values\n",
    "t = y_prediction.index\n",
    "plt.figure(figsize=(16,8))\n",
    "plt.plot(t, true_value, 'r') \n",
    "plt.plot(t, prediction_linear_val, 'b')\n",
    "plt.legend(['True Values', 'Predicted Values'])\n",
    "plt.show()"
   ]
  },
  {
   "cell_type": "code",
   "execution_count": null,
   "metadata": {},
   "outputs": [],
   "source": []
  }
 ],
 "metadata": {
  "colab": {
   "collapsed_sections": [],
   "name": "data_colab_FinaLmodel.ipynb",
   "provenance": [
    {
     "file_id": "19FaFd6yTWzEBgmsPJepyzt0lmKq_J6HT",
     "timestamp": 1585765781997
    },
    {
     "file_id": "1lKgHsmlCQrBsOaB2Ic9sWI0ou0MKNXNe",
     "timestamp": 1585495741757
    }
   ]
  },
  "kernelspec": {
   "display_name": "Python 3",
   "language": "python",
   "name": "python3"
  },
  "language_info": {
   "codemirror_mode": {
    "name": "ipython",
    "version": 3
   },
   "file_extension": ".py",
   "mimetype": "text/x-python",
   "name": "python",
   "nbconvert_exporter": "python",
   "pygments_lexer": "ipython3",
   "version": "3.7.3"
  }
 },
 "nbformat": 4,
 "nbformat_minor": 1
}
