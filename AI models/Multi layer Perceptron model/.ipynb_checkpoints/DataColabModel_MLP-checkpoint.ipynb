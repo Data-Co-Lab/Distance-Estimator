{
 "cells": [
  {
   "cell_type": "code",
   "execution_count": 1,
   "metadata": {
    "colab": {},
    "colab_type": "code",
    "id": "5acb-l84AT7F"
   },
   "outputs": [],
   "source": [
    "import pandas as pd\n",
    "from sklearn.utils import shuffle\n",
    "import numpy as np\n",
    "data_set_path=\"data_set.csv\"\n",
    "df = pd.read_csv(data_set_path)\n",
    "df = shuffle(df)"
   ]
  },
  {
   "cell_type": "code",
   "execution_count": 2,
   "metadata": {},
   "outputs": [
    {
     "data": {
      "text/html": [
       "<div>\n",
       "<style scoped>\n",
       "    .dataframe tbody tr th:only-of-type {\n",
       "        vertical-align: middle;\n",
       "    }\n",
       "\n",
       "    .dataframe tbody tr th {\n",
       "        vertical-align: top;\n",
       "    }\n",
       "\n",
       "    .dataframe thead th {\n",
       "        text-align: right;\n",
       "    }\n",
       "</style>\n",
       "<table border=\"1\" class=\"dataframe\">\n",
       "  <thead>\n",
       "    <tr style=\"text-align: right;\">\n",
       "      <th></th>\n",
       "      <th>x_ratio</th>\n",
       "      <th>y_ratio</th>\n",
       "      <th>target</th>\n",
       "    </tr>\n",
       "  </thead>\n",
       "  <tbody>\n",
       "    <tr>\n",
       "      <th>761</th>\n",
       "      <td>0.159375</td>\n",
       "      <td>0.212500</td>\n",
       "      <td>0.534247</td>\n",
       "    </tr>\n",
       "    <tr>\n",
       "      <th>738</th>\n",
       "      <td>0.209375</td>\n",
       "      <td>0.279167</td>\n",
       "      <td>0.333333</td>\n",
       "    </tr>\n",
       "    <tr>\n",
       "      <th>455</th>\n",
       "      <td>0.312500</td>\n",
       "      <td>0.381944</td>\n",
       "      <td>0.301370</td>\n",
       "    </tr>\n",
       "    <tr>\n",
       "      <th>338</th>\n",
       "      <td>0.227273</td>\n",
       "      <td>0.277778</td>\n",
       "      <td>0.442922</td>\n",
       "    </tr>\n",
       "    <tr>\n",
       "      <th>1562</th>\n",
       "      <td>0.667188</td>\n",
       "      <td>0.889583</td>\n",
       "      <td>0.123288</td>\n",
       "    </tr>\n",
       "  </tbody>\n",
       "</table>\n",
       "</div>"
      ],
      "text/plain": [
       "       x_ratio   y_ratio    target\n",
       "761   0.159375  0.212500  0.534247\n",
       "738   0.209375  0.279167  0.333333\n",
       "455   0.312500  0.381944  0.301370\n",
       "338   0.227273  0.277778  0.442922\n",
       "1562  0.667188  0.889583  0.123288"
      ]
     },
     "execution_count": 2,
     "metadata": {},
     "output_type": "execute_result"
    }
   ],
   "source": [
    "df = df[df.target != 0]\n",
    "df = df[df.target <220]\n",
    "df['x_ratio']= df['w_values']/df['x_resol']\n",
    "df['y_ratio']= df['h_values']/df['y_resol']\n",
    "df = df[['x_ratio','y_ratio','target']]\n",
    "df.target=df.target/df.target.max()\n",
    "df.head()"
   ]
  },
  {
   "cell_type": "code",
   "execution_count": 3,
   "metadata": {
    "colab": {},
    "colab_type": "code",
    "id": "8MUMmrcqdjoC"
   },
   "outputs": [],
   "source": [
    "x=df.drop(['target'],1)\n",
    "y=df['target']\n",
    "predict_data_size=100\n",
    "x_prediction=x[-predict_data_size:]\n",
    "y_prediction=y[-predict_data_size:]\n",
    "x=x[:-predict_data_size+1]\n",
    "y=y[:-predict_data_size+1]"
   ]
  },
  {
   "cell_type": "code",
   "execution_count": 4,
   "metadata": {},
   "outputs": [
    {
     "name": "stdout",
     "output_type": "stream",
     "text": [
      "(2243, 2) (2243, 1)\n"
     ]
    }
   ],
   "source": [
    "x=np.array(x)\n",
    "y=np.array(y)\n",
    "y=y.reshape((y.shape[0],1))\n",
    "print(x.shape,y.shape)"
   ]
  },
  {
   "cell_type": "code",
   "execution_count": 5,
   "metadata": {
    "colab": {
     "base_uri": "https://localhost:8080/",
     "height": 1000
    },
    "colab_type": "code",
    "executionInfo": {
     "elapsed": 10373,
     "status": "ok",
     "timestamp": 1585777446127,
     "user": {
      "displayName": "real Fedi",
      "photoUrl": "https://lh3.googleusercontent.com/a-/AOh14GhfHLU_g3vDC7noU0E7YbE1XvMfPIXodeiokkot=s64",
      "userId": "18015474414758951727"
     },
     "user_tz": -60
    },
    "id": "h-_g0JOVBaU4",
    "outputId": "b486e0d2-ff22-4864-aa56-28a4b0f0f258"
   },
   "outputs": [
    {
     "name": "stderr",
     "output_type": "stream",
     "text": [
      "/home/yosr/anaconda3/lib/python3.7/site-packages/tensorflow/python/framework/dtypes.py:516: FutureWarning: Passing (type, 1) or '1type' as a synonym of type is deprecated; in a future version of numpy, it will be understood as (type, (1,)) / '(1,)type'.\n",
      "  _np_qint8 = np.dtype([(\"qint8\", np.int8, 1)])\n",
      "/home/yosr/anaconda3/lib/python3.7/site-packages/tensorflow/python/framework/dtypes.py:517: FutureWarning: Passing (type, 1) or '1type' as a synonym of type is deprecated; in a future version of numpy, it will be understood as (type, (1,)) / '(1,)type'.\n",
      "  _np_quint8 = np.dtype([(\"quint8\", np.uint8, 1)])\n",
      "/home/yosr/anaconda3/lib/python3.7/site-packages/tensorflow/python/framework/dtypes.py:518: FutureWarning: Passing (type, 1) or '1type' as a synonym of type is deprecated; in a future version of numpy, it will be understood as (type, (1,)) / '(1,)type'.\n",
      "  _np_qint16 = np.dtype([(\"qint16\", np.int16, 1)])\n",
      "/home/yosr/anaconda3/lib/python3.7/site-packages/tensorflow/python/framework/dtypes.py:519: FutureWarning: Passing (type, 1) or '1type' as a synonym of type is deprecated; in a future version of numpy, it will be understood as (type, (1,)) / '(1,)type'.\n",
      "  _np_quint16 = np.dtype([(\"quint16\", np.uint16, 1)])\n",
      "/home/yosr/anaconda3/lib/python3.7/site-packages/tensorflow/python/framework/dtypes.py:520: FutureWarning: Passing (type, 1) or '1type' as a synonym of type is deprecated; in a future version of numpy, it will be understood as (type, (1,)) / '(1,)type'.\n",
      "  _np_qint32 = np.dtype([(\"qint32\", np.int32, 1)])\n",
      "/home/yosr/anaconda3/lib/python3.7/site-packages/tensorflow/python/framework/dtypes.py:525: FutureWarning: Passing (type, 1) or '1type' as a synonym of type is deprecated; in a future version of numpy, it will be understood as (type, (1,)) / '(1,)type'.\n",
      "  np_resource = np.dtype([(\"resource\", np.ubyte, 1)])\n",
      "/home/yosr/anaconda3/lib/python3.7/site-packages/tensorboard/compat/tensorflow_stub/dtypes.py:541: FutureWarning: Passing (type, 1) or '1type' as a synonym of type is deprecated; in a future version of numpy, it will be understood as (type, (1,)) / '(1,)type'.\n",
      "  _np_qint8 = np.dtype([(\"qint8\", np.int8, 1)])\n",
      "/home/yosr/anaconda3/lib/python3.7/site-packages/tensorboard/compat/tensorflow_stub/dtypes.py:542: FutureWarning: Passing (type, 1) or '1type' as a synonym of type is deprecated; in a future version of numpy, it will be understood as (type, (1,)) / '(1,)type'.\n",
      "  _np_quint8 = np.dtype([(\"quint8\", np.uint8, 1)])\n",
      "/home/yosr/anaconda3/lib/python3.7/site-packages/tensorboard/compat/tensorflow_stub/dtypes.py:543: FutureWarning: Passing (type, 1) or '1type' as a synonym of type is deprecated; in a future version of numpy, it will be understood as (type, (1,)) / '(1,)type'.\n",
      "  _np_qint16 = np.dtype([(\"qint16\", np.int16, 1)])\n",
      "/home/yosr/anaconda3/lib/python3.7/site-packages/tensorboard/compat/tensorflow_stub/dtypes.py:544: FutureWarning: Passing (type, 1) or '1type' as a synonym of type is deprecated; in a future version of numpy, it will be understood as (type, (1,)) / '(1,)type'.\n",
      "  _np_quint16 = np.dtype([(\"quint16\", np.uint16, 1)])\n",
      "/home/yosr/anaconda3/lib/python3.7/site-packages/tensorboard/compat/tensorflow_stub/dtypes.py:545: FutureWarning: Passing (type, 1) or '1type' as a synonym of type is deprecated; in a future version of numpy, it will be understood as (type, (1,)) / '(1,)type'.\n",
      "  _np_qint32 = np.dtype([(\"qint32\", np.int32, 1)])\n",
      "/home/yosr/anaconda3/lib/python3.7/site-packages/tensorboard/compat/tensorflow_stub/dtypes.py:550: FutureWarning: Passing (type, 1) or '1type' as a synonym of type is deprecated; in a future version of numpy, it will be understood as (type, (1,)) / '(1,)type'.\n",
      "  np_resource = np.dtype([(\"resource\", np.ubyte, 1)])\n",
      "WARNING: Logging before flag parsing goes to stderr.\n",
      "W0503 01:20:51.695169 140392290617088 deprecation.py:506] From /home/yosr/anaconda3/lib/python3.7/site-packages/tensorflow/python/ops/init_ops.py:1251: calling VarianceScaling.__init__ (from tensorflow.python.ops.init_ops) with dtype is deprecated and will be removed in a future version.\n",
      "Instructions for updating:\n",
      "Call initializer instance with the dtype argument instead of passing it to the constructor\n"
     ]
    },
    {
     "name": "stdout",
     "output_type": "stream",
     "text": [
      "Train on 1794 samples, validate on 449 samples\n",
      "Epoch 1/64\n",
      "1794/1794 [==============================] - 0s 154us/sample - loss: 0.3236 - mean_squared_error: 0.1608 - val_loss: 0.1111 - val_mean_squared_error: 0.0160\n",
      "Epoch 2/64\n",
      "1794/1794 [==============================] - 0s 63us/sample - loss: 0.0814 - mean_squared_error: 0.0109 - val_loss: 0.0476 - val_mean_squared_error: 0.0044\n",
      "Epoch 3/64\n",
      "1794/1794 [==============================] - 0s 62us/sample - loss: 0.0500 - mean_squared_error: 0.0046 - val_loss: 0.0480 - val_mean_squared_error: 0.0040\n",
      "Epoch 4/64\n",
      "1794/1794 [==============================] - 0s 69us/sample - loss: 0.0474 - mean_squared_error: 0.0042 - val_loss: 0.0457 - val_mean_squared_error: 0.0046\n",
      "Epoch 5/64\n",
      "1794/1794 [==============================] - 0s 61us/sample - loss: 0.0444 - mean_squared_error: 0.0038 - val_loss: 0.0401 - val_mean_squared_error: 0.0034\n",
      "Epoch 6/64\n",
      "1794/1794 [==============================] - 0s 70us/sample - loss: 0.0437 - mean_squared_error: 0.0038 - val_loss: 0.0436 - val_mean_squared_error: 0.0044\n",
      "Epoch 7/64\n",
      "1794/1794 [==============================] - 0s 61us/sample - loss: 0.0455 - mean_squared_error: 0.0040 - val_loss: 0.0442 - val_mean_squared_error: 0.0037\n",
      "Epoch 8/64\n",
      "1794/1794 [==============================] - 0s 94us/sample - loss: 0.0430 - mean_squared_error: 0.0037 - val_loss: 0.0401 - val_mean_squared_error: 0.0037\n",
      "Epoch 9/64\n",
      "1794/1794 [==============================] - 0s 75us/sample - loss: 0.0425 - mean_squared_error: 0.0036 - val_loss: 0.0401 - val_mean_squared_error: 0.0033\n",
      "Epoch 10/64\n",
      "1794/1794 [==============================] - 0s 61us/sample - loss: 0.0416 - mean_squared_error: 0.0035 - val_loss: 0.0517 - val_mean_squared_error: 0.0047\n",
      "Epoch 11/64\n",
      "1794/1794 [==============================] - 0s 66us/sample - loss: 0.0426 - mean_squared_error: 0.0037 - val_loss: 0.0382 - val_mean_squared_error: 0.0036\n",
      "Epoch 12/64\n",
      "1794/1794 [==============================] - 0s 61us/sample - loss: 0.0399 - mean_squared_error: 0.0034 - val_loss: 0.0394 - val_mean_squared_error: 0.0036\n",
      "Epoch 13/64\n",
      "1794/1794 [==============================] - 0s 66us/sample - loss: 0.0405 - mean_squared_error: 0.0034 - val_loss: 0.0397 - val_mean_squared_error: 0.0038\n",
      "Epoch 14/64\n",
      "1794/1794 [==============================] - 0s 91us/sample - loss: 0.0425 - mean_squared_error: 0.0036 - val_loss: 0.0412 - val_mean_squared_error: 0.0034\n",
      "Epoch 15/64\n",
      "1794/1794 [==============================] - 0s 79us/sample - loss: 0.0397 - mean_squared_error: 0.0033 - val_loss: 0.0399 - val_mean_squared_error: 0.0033\n",
      "Epoch 16/64\n",
      "1794/1794 [==============================] - 0s 59us/sample - loss: 0.0409 - mean_squared_error: 0.0034 - val_loss: 0.0468 - val_mean_squared_error: 0.0044\n",
      "Epoch 17/64\n",
      "1794/1794 [==============================] - 0s 73us/sample - loss: 0.0407 - mean_squared_error: 0.0035 - val_loss: 0.0395 - val_mean_squared_error: 0.0034\n",
      "Epoch 18/64\n",
      "1794/1794 [==============================] - 0s 63us/sample - loss: 0.0403 - mean_squared_error: 0.0034 - val_loss: 0.0469 - val_mean_squared_error: 0.0048\n",
      "Epoch 19/64\n",
      "1794/1794 [==============================] - 0s 61us/sample - loss: 0.0409 - mean_squared_error: 0.0034 - val_loss: 0.0390 - val_mean_squared_error: 0.0035\n",
      "Epoch 20/64\n",
      "1794/1794 [==============================] - 0s 57us/sample - loss: 0.0398 - mean_squared_error: 0.0033 - val_loss: 0.0384 - val_mean_squared_error: 0.0033\n",
      "Epoch 21/64\n",
      "1794/1794 [==============================] - 0s 65us/sample - loss: 0.0404 - mean_squared_error: 0.0034 - val_loss: 0.0379 - val_mean_squared_error: 0.0035\n",
      "Epoch 22/64\n",
      "1794/1794 [==============================] - 0s 64us/sample - loss: 0.0394 - mean_squared_error: 0.0032 - val_loss: 0.0400 - val_mean_squared_error: 0.0034\n",
      "Epoch 23/64\n",
      "1794/1794 [==============================] - 0s 63us/sample - loss: 0.0392 - mean_squared_error: 0.0032 - val_loss: 0.0419 - val_mean_squared_error: 0.0034\n",
      "Epoch 24/64\n",
      "1794/1794 [==============================] - 0s 62us/sample - loss: 0.0401 - mean_squared_error: 0.0035 - val_loss: 0.0412 - val_mean_squared_error: 0.0038\n",
      "Epoch 25/64\n",
      "1794/1794 [==============================] - 0s 65us/sample - loss: 0.0401 - mean_squared_error: 0.0034 - val_loss: 0.0493 - val_mean_squared_error: 0.0044\n",
      "Epoch 26/64\n",
      "1794/1794 [==============================] - 0s 62us/sample - loss: 0.0414 - mean_squared_error: 0.0035 - val_loss: 0.0404 - val_mean_squared_error: 0.0033\n",
      "Epoch 27/64\n",
      "1794/1794 [==============================] - 0s 70us/sample - loss: 0.0383 - mean_squared_error: 0.0031 - val_loss: 0.0451 - val_mean_squared_error: 0.0040\n",
      "Epoch 28/64\n",
      "1794/1794 [==============================] - 0s 79us/sample - loss: 0.0391 - mean_squared_error: 0.0032 - val_loss: 0.0454 - val_mean_squared_error: 0.0040\n",
      "Epoch 29/64\n",
      "1794/1794 [==============================] - 0s 75us/sample - loss: 0.0387 - mean_squared_error: 0.0032 - val_loss: 0.0435 - val_mean_squared_error: 0.0043\n",
      "Epoch 30/64\n",
      "1794/1794 [==============================] - 0s 63us/sample - loss: 0.0395 - mean_squared_error: 0.0033 - val_loss: 0.0451 - val_mean_squared_error: 0.0037\n",
      "Epoch 31/64\n",
      "1794/1794 [==============================] - 0s 65us/sample - loss: 0.0404 - mean_squared_error: 0.0033 - val_loss: 0.0401 - val_mean_squared_error: 0.0038\n",
      "Epoch 32/64\n",
      "1794/1794 [==============================] - 0s 75us/sample - loss: 0.0400 - mean_squared_error: 0.0033 - val_loss: 0.0430 - val_mean_squared_error: 0.0037\n",
      "Epoch 33/64\n",
      "1794/1794 [==============================] - 0s 66us/sample - loss: 0.0386 - mean_squared_error: 0.0032 - val_loss: 0.0444 - val_mean_squared_error: 0.0038\n",
      "Epoch 34/64\n",
      "1794/1794 [==============================] - 0s 80us/sample - loss: 0.0400 - mean_squared_error: 0.0033 - val_loss: 0.0429 - val_mean_squared_error: 0.0035\n",
      "Epoch 35/64\n",
      "1794/1794 [==============================] - 0s 73us/sample - loss: 0.0396 - mean_squared_error: 0.0033 - val_loss: 0.0402 - val_mean_squared_error: 0.0035\n",
      "Epoch 36/64\n",
      "1794/1794 [==============================] - 0s 80us/sample - loss: 0.0392 - mean_squared_error: 0.0032 - val_loss: 0.0400 - val_mean_squared_error: 0.0034\n",
      "Epoch 37/64\n",
      "1794/1794 [==============================] - 0s 80us/sample - loss: 0.0390 - mean_squared_error: 0.0032 - val_loss: 0.0386 - val_mean_squared_error: 0.0034\n",
      "Epoch 38/64\n",
      "1794/1794 [==============================] - 0s 78us/sample - loss: 0.0407 - mean_squared_error: 0.0033 - val_loss: 0.0495 - val_mean_squared_error: 0.0042\n",
      "Epoch 39/64\n",
      "1794/1794 [==============================] - 0s 67us/sample - loss: 0.0386 - mean_squared_error: 0.0032 - val_loss: 0.0418 - val_mean_squared_error: 0.0035\n",
      "Epoch 40/64\n",
      "1794/1794 [==============================] - 0s 61us/sample - loss: 0.0385 - mean_squared_error: 0.0033 - val_loss: 0.0457 - val_mean_squared_error: 0.0038\n",
      "Epoch 41/64\n",
      "1794/1794 [==============================] - 0s 98us/sample - loss: 0.0389 - mean_squared_error: 0.0032 - val_loss: 0.0420 - val_mean_squared_error: 0.0037\n",
      "Epoch 42/64\n",
      "1794/1794 [==============================] - 0s 77us/sample - loss: 0.0382 - mean_squared_error: 0.0032 - val_loss: 0.0435 - val_mean_squared_error: 0.0037\n",
      "Epoch 43/64\n",
      "1794/1794 [==============================] - 0s 75us/sample - loss: 0.0376 - mean_squared_error: 0.0031 - val_loss: 0.0412 - val_mean_squared_error: 0.0034\n",
      "Epoch 44/64\n",
      "1794/1794 [==============================] - 0s 63us/sample - loss: 0.0389 - mean_squared_error: 0.0032 - val_loss: 0.0436 - val_mean_squared_error: 0.0036\n",
      "Epoch 45/64\n",
      "1794/1794 [==============================] - 0s 64us/sample - loss: 0.0391 - mean_squared_error: 0.0033 - val_loss: 0.0446 - val_mean_squared_error: 0.0043\n",
      "Epoch 46/64\n",
      "1794/1794 [==============================] - 0s 94us/sample - loss: 0.0400 - mean_squared_error: 0.0034 - val_loss: 0.0427 - val_mean_squared_error: 0.0036\n",
      "Epoch 47/64\n",
      "1794/1794 [==============================] - 0s 82us/sample - loss: 0.0392 - mean_squared_error: 0.0032 - val_loss: 0.0424 - val_mean_squared_error: 0.0040\n",
      "Epoch 48/64\n",
      "1794/1794 [==============================] - 0s 101us/sample - loss: 0.0398 - mean_squared_error: 0.0033 - val_loss: 0.0409 - val_mean_squared_error: 0.0037\n",
      "Epoch 49/64\n"
     ]
    },
    {
     "name": "stdout",
     "output_type": "stream",
     "text": [
      "1794/1794 [==============================] - 0s 102us/sample - loss: 0.0376 - mean_squared_error: 0.0030 - val_loss: 0.0410 - val_mean_squared_error: 0.0035\n",
      "Epoch 50/64\n",
      "1794/1794 [==============================] - 0s 94us/sample - loss: 0.0382 - mean_squared_error: 0.0030 - val_loss: 0.0383 - val_mean_squared_error: 0.0033\n",
      "Epoch 51/64\n",
      "1794/1794 [==============================] - 0s 81us/sample - loss: 0.0390 - mean_squared_error: 0.0032 - val_loss: 0.0387 - val_mean_squared_error: 0.0033\n",
      "Epoch 52/64\n",
      "1794/1794 [==============================] - 0s 94us/sample - loss: 0.0384 - mean_squared_error: 0.0031 - val_loss: 0.0409 - val_mean_squared_error: 0.0036\n",
      "Epoch 53/64\n",
      "1794/1794 [==============================] - 0s 86us/sample - loss: 0.0380 - mean_squared_error: 0.0031 - val_loss: 0.0463 - val_mean_squared_error: 0.0045\n",
      "Epoch 54/64\n",
      "1794/1794 [==============================] - 0s 100us/sample - loss: 0.0403 - mean_squared_error: 0.0033 - val_loss: 0.0425 - val_mean_squared_error: 0.0040\n",
      "Epoch 55/64\n",
      "1794/1794 [==============================] - 0s 94us/sample - loss: 0.0405 - mean_squared_error: 0.0034 - val_loss: 0.0422 - val_mean_squared_error: 0.0035\n",
      "Epoch 56/64\n",
      "1794/1794 [==============================] - 0s 77us/sample - loss: 0.0387 - mean_squared_error: 0.0031 - val_loss: 0.0436 - val_mean_squared_error: 0.0036\n",
      "Epoch 57/64\n",
      "1794/1794 [==============================] - 0s 95us/sample - loss: 0.0382 - mean_squared_error: 0.0031 - val_loss: 0.0413 - val_mean_squared_error: 0.0036\n",
      "Epoch 58/64\n",
      "1794/1794 [==============================] - 0s 78us/sample - loss: 0.0377 - mean_squared_error: 0.0031 - val_loss: 0.0426 - val_mean_squared_error: 0.0037\n",
      "Epoch 59/64\n",
      "1794/1794 [==============================] - 0s 74us/sample - loss: 0.0396 - mean_squared_error: 0.0033 - val_loss: 0.0408 - val_mean_squared_error: 0.0034\n",
      "Epoch 60/64\n",
      "1794/1794 [==============================] - 0s 62us/sample - loss: 0.0381 - mean_squared_error: 0.0031 - val_loss: 0.0397 - val_mean_squared_error: 0.0038\n",
      "Epoch 61/64\n",
      "1794/1794 [==============================] - 0s 96us/sample - loss: 0.0385 - mean_squared_error: 0.0032 - val_loss: 0.0510 - val_mean_squared_error: 0.0045\n",
      "Epoch 62/64\n",
      "1794/1794 [==============================] - 0s 80us/sample - loss: 0.0393 - mean_squared_error: 0.0032 - val_loss: 0.0475 - val_mean_squared_error: 0.0040\n",
      "Epoch 63/64\n",
      "1794/1794 [==============================] - 0s 81us/sample - loss: 0.0382 - mean_squared_error: 0.0031 - val_loss: 0.0418 - val_mean_squared_error: 0.0037\n",
      "Epoch 64/64\n",
      "1794/1794 [==============================] - 0s 92us/sample - loss: 0.0376 - mean_squared_error: 0.0030 - val_loss: 0.0398 - val_mean_squared_error: 0.0034\n"
     ]
    },
    {
     "data": {
      "text/plain": [
       "<tensorflow.python.keras.callbacks.History at 0x7faf4e28de80>"
      ]
     },
     "execution_count": 5,
     "metadata": {},
     "output_type": "execute_result"
    }
   ],
   "source": [
    "from tensorflow.keras import datasets, layers, models\n",
    "model = models.Sequential()#neural network model\n",
    "model.add(layers.Dense(units=128, input_shape=[2]))#first input layer with 943 nods but 1 input\n",
    "model.add(layers.Dense(128, activation='relu'))\n",
    "model.add(layers.Dense(64, activation='relu'))\n",
    "model.add(layers.Dropout(0.2))\n",
    "model.add(layers.Dense(1, activation='relu'))#output layer with 1 nod to show the result\n",
    "model.compile(loss='mean_absolute_error', optimizer='adam', metrics=['mean_squared_error'])#mean squared error method and adam optimizer(i allways work with adam xD)\n",
    "model.fit(x, y,epochs=64,validation_split=0.2)#training the model for 50 times"
   ]
  },
  {
   "cell_type": "code",
   "execution_count": 6,
   "metadata": {
    "colab": {},
    "colab_type": "code",
    "id": "vHCxS_ZWijVz"
   },
   "outputs": [],
   "source": [
    "X_prediction=x_prediction.to_numpy()\n",
    "Y_prediction=y_prediction.to_numpy()"
   ]
  },
  {
   "cell_type": "code",
   "execution_count": 7,
   "metadata": {
    "colab": {},
    "colab_type": "code",
    "id": "ZptyzMkSkUZZ"
   },
   "outputs": [],
   "source": [
    "results=model.predict(X_prediction)"
   ]
  },
  {
   "cell_type": "code",
   "execution_count": 8,
   "metadata": {
    "colab": {
     "base_uri": "https://localhost:8080/",
     "height": 757
    },
    "colab_type": "code",
    "executionInfo": {
     "elapsed": 8864,
     "status": "ok",
     "timestamp": 1585777468777,
     "user": {
      "displayName": "real Fedi",
      "photoUrl": "https://lh3.googleusercontent.com/a-/AOh14GhfHLU_g3vDC7noU0E7YbE1XvMfPIXodeiokkot=s64",
      "userId": "18015474414758951727"
     },
     "user_tz": -60
    },
    "id": "Xny1-Pu8khCb",
    "outputId": "3feb78c6-f94e-472c-f95f-1fbf2fc8da15",
    "scrolled": true
   },
   "outputs": [
    {
     "data": {
      "text/plain": [
       "<Figure size 3000x1500 with 1 Axes>"
      ]
     },
     "metadata": {},
     "output_type": "display_data"
    }
   ],
   "source": [
    "import matplotlib.pyplot as plt\n",
    "t=range(predict_data_size)\n",
    "plt.figure(figsize=(30,15))\n",
    "plt.plot(t, results, 'b') \n",
    "plt.plot(t, y_prediction.values, 'r') \n",
    "plt.legend(['Predicted Values','True Values'])\n",
    "plt.show()"
   ]
  },
  {
   "cell_type": "code",
   "execution_count": 9,
   "metadata": {
    "colab": {},
    "colab_type": "code",
    "id": "rmBlGmhBpa-R"
   },
   "outputs": [],
   "source": [
    "model.save('MLP_model.h5')"
   ]
  }
 ],
 "metadata": {
  "colab": {
   "authorship_tag": "ABX9TyNabcMviOd1pfp8Ccewsd9k",
   "collapsed_sections": [],
   "name": "DataColabModel_MLP.ipynb",
   "provenance": []
  },
  "kernelspec": {
   "display_name": "Python 3",
   "language": "python",
   "name": "python3"
  },
  "language_info": {
   "codemirror_mode": {
    "name": "ipython",
    "version": 3
   },
   "file_extension": ".py",
   "mimetype": "text/x-python",
   "name": "python",
   "nbconvert_exporter": "python",
   "pygments_lexer": "ipython3",
   "version": "3.7.3"
  }
 },
 "nbformat": 4,
 "nbformat_minor": 1
}
